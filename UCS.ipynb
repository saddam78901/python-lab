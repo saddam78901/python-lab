{
 "cells": [
  {
   "cell_type": "code",
   "execution_count": 2,
   "metadata": {},
   "outputs": [
    {
     "ename": "SyntaxError",
     "evalue": "invalid syntax (<ipython-input-2-5b3d7f115dbf>, line 1)",
     "output_type": "error",
     "traceback": [
      "\u001b[1;36m  File \u001b[1;32m\"<ipython-input-2-5b3d7f115dbf>\"\u001b[1;36m, line \u001b[1;32m1\u001b[0m\n\u001b[1;33m    Uniform Cost Search Implementation using PriorityQueue\u001b[0m\n\u001b[1;37m               ^\u001b[0m\n\u001b[1;31mSyntaxError\u001b[0m\u001b[1;31m:\u001b[0m invalid syntax\n"
     ]
    }
   ],
   "source": [
    "Uniform Cost Search Implementation using PriorityQueue\n",
    "\n",
    "Map and input taken from\n",
    "http://www.massey.ac.nz/~mjjohnso/notes/59302/l04.html\n",
    "\n",
    "Author: Jayesh Chandrapal\n",
    "Version: 1.0\n",
    "\"\"\"\n",
    "\n",
    "import queue as Q\n",
    "\n",
    "def search(graph, start, end):\n",
    "    if start not in graph:\n",
    "        raise TypeError(str(start) + ' not found in graph !')\n",
    "        return\n",
    "    if end not in graph:\n",
    "        raise TypeError(str(end) + ' not found in graph !')\n",
    "        return\n",
    "    \n",
    "    queue = Q.PriorityQueue()\n",
    "    queue.put((0, [start]))\n",
    "    \n",
    "    while not queue.empty():\n",
    "        node = queue.get()\n",
    "        current = node[1][len(node[1]) - 1]\n",
    "        \n",
    "        if end in node[1]:\n",
    "            print(\"Path found: \" + str(node[1]) + \", Cost = \" + str(node[0]))\n",
    "            break\n",
    "        \n",
    "        cost = node[0]\n",
    "        for neighbor in graph[current]:\n",
    "            temp = node[1][:]\n",
    "            temp.append(neighbor)\n",
    "            queue.put((cost + graph[current][neighbor], temp))\n",
    "        \n",
    "def readGraph():\n",
    "    lines = int( input() )\n",
    "    graph = {}\n",
    "    \n",
    "    for line in range(lines):\n",
    "        line = input()\n",
    "            \n",
    "        tokens = line.split()\n",
    "        node = tokens[0]\n",
    "        graph[node] = {}\n",
    "        \n",
    "        for i in range(1, len(tokens) - 1, 2):\n",
    "            # print(node, tokens[i], tokens[i + 1])\n",
    "            # graph.addEdge(node, tokens[i], int(tokens[i + 1]))\n",
    "            graph[node][tokens[i]] = int(tokens[i + 1])\n",
    "    return graph\n",
    "\n",
    "def main():\n",
    "    graph = readGraph()\n",
    "    search(graph, 'Arad', 'Bucharest')\n",
    "    \n",
    "if __name__ == \"__main__\":\n",
    "    main()\n",
    "    \n",
    "\"\"\"\n",
    "Sample Map Input:\n",
    "\n",
    "14\n",
    "Arad Zerind 85 Timisoara 118 Sibiu 150\n",
    "Zerind Oradea 76 Arad 80\n",
    "Timisoara Arad 118 Lugoj 112\n",
    "Sibiu Arad 150 Oradea 151 Fagaras 99 RimnicuVilcea 80\n",
    "Oradea Zerind 76 Sibiu 155\n",
    "Lugoj Timisoara 112 Mehadia 70\n",
    "RimnicuVilcea Sibiu 80 Pitesti 97 Craiova 146\n",
    "Mehadia Lugoj 70 Dobreta 75\n",
    "Craiova Dobreta 120 RimnicuVilcea 146 Pitesti 138\n",
    "Pitesti RimnicuVilcea 97 Craiova 138 Bucharest 101\n",
    "Fagaras Sibiu 99 Bucharest 211\n",
    "Dobreta Mehadia 75 Craiova 120\n",
    "Bucharest Fagaras 211 Pitesti 101 Giurgiu 90\n",
    "Giurgiu Bucharest 90\n",
    "\"\"\""
   ]
  },
  {
   "cell_type": "code",
   "execution_count": null,
   "metadata": {},
   "outputs": [],
   "source": []
  },
  {
   "cell_type": "code",
   "execution_count": null,
   "metadata": {},
   "outputs": [],
   "source": []
  }
 ],
 "metadata": {
  "kernelspec": {
   "display_name": "Python 3",
   "language": "python",
   "name": "python3"
  },
  "language_info": {
   "codemirror_mode": {
    "name": "ipython",
    "version": 3
   },
   "file_extension": ".py",
   "mimetype": "text/x-python",
   "name": "python",
   "nbconvert_exporter": "python",
   "pygments_lexer": "ipython3",
   "version": "3.7.3"
  }
 },
 "nbformat": 4,
 "nbformat_minor": 2
}
